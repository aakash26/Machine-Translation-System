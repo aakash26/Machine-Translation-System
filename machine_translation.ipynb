{
 "cells": [
  {
   "cell_type": "markdown",
   "metadata": {
    "collapsed": true
   },
   "source": [
    "# Artificial Intelligence Nanodegree\n",
    "## Machine Translation Project\n",
    "In this notebook, sections that end with **'(IMPLEMENTATION)'** in the header indicate that the following blocks of code will require additional functionality which you must provide. Please be sure to read the instructions carefully!\n",
    "\n",
    "## Introduction\n",
    "In this notebook, you will build a deep neural network that functions as part of an end-to-end machine translation pipeline. Your completed pipeline will accept English text as input and return the French translation.\n",
    "\n",
    "- **Preprocess** - You'll convert text to sequence of integers.\n",
    "- **Models** Create models which accepts a sequence of integers as input and returns a probability distribution over possible translations. After learning about the basic types of neural networks that are often used for machine translation, you will engage in your own investigations, to design your own model!\n",
    "- **Prediction** Run the model on English text."
   ]
  },
  {
   "cell_type": "code",
   "execution_count": 1,
   "metadata": {},
   "outputs": [
    {
     "name": "stderr",
     "output_type": "stream",
     "text": [
      "Using TensorFlow backend.\n"
     ]
    }
   ],
   "source": [
    "import collections\n",
    "\n",
    "import helper\n",
    "import numpy as np\n",
    "import project_tests as tests\n",
    "\n",
    "from keras.preprocessing.text import Tokenizer\n",
    "from keras.preprocessing.sequence import pad_sequences\n",
    "from keras.models import Model\n",
    "from keras.layers import GRU, Input, Dense, TimeDistributed, Activation, RepeatVector, Bidirectional,LSTM\n",
    "from keras.layers.embeddings import Embedding\n",
    "from keras.optimizers import Adam\n",
    "from keras.losses import sparse_categorical_crossentropy"
   ]
  },
  {
   "cell_type": "markdown",
   "metadata": {},
   "source": [
    "### Verify access to the GPU\n",
    "The following test applies only if you expect to be using a GPU, e.g., while running in a Udacity Workspace or using an AWS instance with GPU support. Run the next cell, and verify that the device_type is \"GPU\".\n",
    "- If the device is not GPU & you are running from a Udacity Workspace, then save your workspace with the icon at the top, then click \"enable\" at the bottom of the workspace.\n",
    "- If the device is not GPU & you are running from an AWS instance, then refer to the cloud computing instructions in the classroom to verify your setup steps."
   ]
  },
  {
   "cell_type": "code",
   "execution_count": 2,
   "metadata": {},
   "outputs": [
    {
     "name": "stdout",
     "output_type": "stream",
     "text": [
      "[name: \"/cpu:0\"\n",
      "device_type: \"CPU\"\n",
      "memory_limit: 268435456\n",
      "locality {\n",
      "}\n",
      "incarnation: 9351241109339880133\n",
      ", name: \"/gpu:0\"\n",
      "device_type: \"GPU\"\n",
      "memory_limit: 357433344\n",
      "locality {\n",
      "  bus_id: 1\n",
      "}\n",
      "incarnation: 8376758140865212082\n",
      "physical_device_desc: \"device: 0, name: Tesla K80, pci bus id: 0000:00:04.0\"\n",
      "]\n"
     ]
    }
   ],
   "source": [
    "from tensorflow.python.client import device_lib\n",
    "print(device_lib.list_local_devices())"
   ]
  },
  {
   "cell_type": "markdown",
   "metadata": {},
   "source": [
    "## Dataset\n",
    "We begin by investigating the dataset that will be used to train and evaluate your pipeline.  The most common datasets used for machine translation are from [WMT](http://www.statmt.org/).  However, that will take a long time to train a neural network on.  We'll be using a dataset we created for this project that contains a small vocabulary.  You'll be able to train your model in a reasonable time with this dataset.\n",
    "### Load Data\n",
    "The data is located in `data/small_vocab_en` and `data/small_vocab_fr`. The `small_vocab_en` file contains English sentences with their French translations in the `small_vocab_fr` file. Load the English and French data from these files from running the cell below."
   ]
  },
  {
   "cell_type": "code",
   "execution_count": 3,
   "metadata": {},
   "outputs": [
    {
     "name": "stdout",
     "output_type": "stream",
     "text": [
      "Dataset Loaded\n"
     ]
    }
   ],
   "source": [
    "# Load English data\n",
    "english_sentences = helper.load_data('data/small_vocab_en')\n",
    "# Load French data\n",
    "french_sentences = helper.load_data('data/small_vocab_fr')\n",
    "\n",
    "print('Dataset Loaded')"
   ]
  },
  {
   "cell_type": "markdown",
   "metadata": {},
   "source": [
    "### Files\n",
    "Each line in `small_vocab_en` contains an English sentence with the respective translation in each line of `small_vocab_fr`.  View the first two lines from each file."
   ]
  },
  {
   "cell_type": "code",
   "execution_count": 4,
   "metadata": {},
   "outputs": [
    {
     "name": "stdout",
     "output_type": "stream",
     "text": [
      "small_vocab_en Line 1:  new jersey is sometimes quiet during autumn , and it is snowy in april .\n",
      "small_vocab_fr Line 1:  new jersey est parfois calme pendant l' automne , et il est neigeux en avril .\n",
      "small_vocab_en Line 2:  the united states is usually chilly during july , and it is usually freezing in november .\n",
      "small_vocab_fr Line 2:  les états-unis est généralement froid en juillet , et il gèle habituellement en novembre .\n"
     ]
    }
   ],
   "source": [
    "for sample_i in range(2):\n",
    "    print('small_vocab_en Line {}:  {}'.format(sample_i + 1, english_sentences[sample_i]))\n",
    "    print('small_vocab_fr Line {}:  {}'.format(sample_i + 1, french_sentences[sample_i]))"
   ]
  },
  {
   "cell_type": "markdown",
   "metadata": {},
   "source": [
    "From looking at the sentences, you can see they have been preprocessed already.  The puncuations have been delimited using spaces. All the text have been converted to lowercase.  This should save you some time, but the text requires more preprocessing.\n",
    "### Vocabulary\n",
    "The complexity of the problem is determined by the complexity of the vocabulary.  A more complex vocabulary is a more complex problem.  Let's look at the complexity of the dataset we'll be working with."
   ]
  },
  {
   "cell_type": "code",
   "execution_count": 5,
   "metadata": {},
   "outputs": [
    {
     "name": "stdout",
     "output_type": "stream",
     "text": [
      "1823250 English words.\n",
      "227 unique English words.\n",
      "10 Most common words in the English dataset:\n",
      "\"is\" \",\" \".\" \"in\" \"it\" \"during\" \"the\" \"but\" \"and\" \"sometimes\"\n",
      "\n",
      "1961295 French words.\n",
      "355 unique French words.\n",
      "10 Most common words in the French dataset:\n",
      "\"est\" \".\" \",\" \"en\" \"il\" \"les\" \"mais\" \"et\" \"la\" \"parfois\"\n"
     ]
    }
   ],
   "source": [
    "english_words_counter = collections.Counter([word for sentence in english_sentences for word in sentence.split()])\n",
    "french_words_counter = collections.Counter([word for sentence in french_sentences for word in sentence.split()])\n",
    "\n",
    "print('{} English words.'.format(len([word for sentence in english_sentences for word in sentence.split()])))\n",
    "print('{} unique English words.'.format(len(english_words_counter)))\n",
    "print('10 Most common words in the English dataset:')\n",
    "print('\"' + '\" \"'.join(list(zip(*english_words_counter.most_common(10)))[0]) + '\"')\n",
    "print()\n",
    "print('{} French words.'.format(len([word for sentence in french_sentences for word in sentence.split()])))\n",
    "print('{} unique French words.'.format(len(french_words_counter)))\n",
    "print('10 Most common words in the French dataset:')\n",
    "print('\"' + '\" \"'.join(list(zip(*french_words_counter.most_common(10)))[0]) + '\"')"
   ]
  },
  {
   "cell_type": "markdown",
   "metadata": {},
   "source": [
    "For comparison, _Alice's Adventures in Wonderland_ contains 2,766 unique words of a total of 15,500 words.\n",
    "## Preprocess\n",
    "For this project, you won't use text data as input to your model. Instead, you'll convert the text into sequences of integers using the following preprocess methods:\n",
    "1. Tokenize the words into ids\n",
    "2. Add padding to make all the sequences the same length.\n",
    "\n",
    "Time to start preprocessing the data...\n",
    "### Tokenize (IMPLEMENTATION)\n",
    "For a neural network to predict on text data, it first has to be turned into data it can understand. Text data like \"dog\" is a sequence of ASCII character encodings.  Since a neural network is a series of multiplication and addition operations, the input data needs to be number(s).\n",
    "\n",
    "We can turn each character into a number or each word into a number.  These are called character and word ids, respectively.  Character ids are used for character level models that generate text predictions for each character.  A word level model uses word ids that generate text predictions for each word.  Word level models tend to learn better, since they are lower in complexity, so we'll use those.\n",
    "\n",
    "Turn each sentence into a sequence of words ids using Keras's [`Tokenizer`](https://keras.io/preprocessing/text/#tokenizer) function. Use this function to tokenize `english_sentences` and `french_sentences` in the cell below.\n",
    "\n",
    "Running the cell will run `tokenize` on sample data and show output for debugging."
   ]
  },
  {
   "cell_type": "code",
   "execution_count": 6,
   "metadata": {},
   "outputs": [
    {
     "name": "stdout",
     "output_type": "stream",
     "text": [
      "{'the': 1, 'quick': 2, 'a': 3, 'brown': 4, 'fox': 5, 'jumps': 6, 'over': 7, 'lazy': 8, 'dog': 9, 'by': 10, 'jove': 11, 'my': 12, 'study': 13, 'of': 14, 'lexicography': 15, 'won': 16, 'prize': 17, 'this': 18, 'is': 19, 'short': 20, 'sentence': 21}\n",
      "\n",
      "Sequence 1 in x\n",
      "  Input:  The quick brown fox jumps over the lazy dog .\n",
      "  Output: [1, 2, 4, 5, 6, 7, 1, 8, 9]\n",
      "Sequence 2 in x\n",
      "  Input:  By Jove , my quick study of lexicography won a prize .\n",
      "  Output: [10, 11, 12, 2, 13, 14, 15, 16, 3, 17]\n",
      "Sequence 3 in x\n",
      "  Input:  This is a short sentence .\n",
      "  Output: [18, 19, 3, 20, 21]\n"
     ]
    }
   ],
   "source": [
    "def tokenize(x):\n",
    "    \"\"\"\n",
    "    Tokenize x\n",
    "    :param x: List of sentences/strings to be tokenized\n",
    "    :return: Tuple of (tokenized x data, tokenizer used to tokenize x)\n",
    "    \"\"\"\n",
    "    x_tk = Tokenizer()\n",
    "    x_tk.fit_on_texts(x)\n",
    "    return x_tk.texts_to_sequences(x), x_tk\n",
    "tests.test_tokenize(tokenize)\n",
    "\n",
    "# Tokenize Example output\n",
    "text_sentences = [\n",
    "    'The quick brown fox jumps over the lazy dog .',\n",
    "    'By Jove , my quick study of lexicography won a prize .',\n",
    "    'This is a short sentence .']\n",
    "text_tokenized, text_tokenizer = tokenize(text_sentences)\n",
    "print(text_tokenizer.word_index)\n",
    "print()\n",
    "for sample_i, (sent, token_sent) in enumerate(zip(text_sentences, text_tokenized)):\n",
    "    print('Sequence {} in x'.format(sample_i + 1))\n",
    "    print('  Input:  {}'.format(sent))\n",
    "    print('  Output: {}'.format(token_sent))"
   ]
  },
  {
   "cell_type": "markdown",
   "metadata": {},
   "source": [
    "### Padding (IMPLEMENTATION)\n",
    "When batching the sequence of word ids together, each sequence needs to be the same length.  Since sentences are dynamic in length, we can add padding to the end of the sequences to make them the same length.\n",
    "\n",
    "Make sure all the English sequences have the same length and all the French sequences have the same length by adding padding to the **end** of each sequence using Keras's [`pad_sequences`](https://keras.io/preprocessing/sequence/#pad_sequences) function."
   ]
  },
  {
   "cell_type": "code",
   "execution_count": 7,
   "metadata": {},
   "outputs": [
    {
     "name": "stdout",
     "output_type": "stream",
     "text": [
      "Sequence 1 in x\n",
      "  Input:  [1 2 4 5 6 7 1 8 9]\n",
      "  Output: [1 2 4 5 6 7 1 8 9 0]\n",
      "Sequence 2 in x\n",
      "  Input:  [10 11 12  2 13 14 15 16  3 17]\n",
      "  Output: [10 11 12  2 13 14 15 16  3 17]\n",
      "Sequence 3 in x\n",
      "  Input:  [18 19  3 20 21]\n",
      "  Output: [18 19  3 20 21  0  0  0  0  0]\n"
     ]
    }
   ],
   "source": [
    "def pad(x, length=None):\n",
    "    \"\"\"\n",
    "    Pad x\n",
    "    :param x: List of sequences.\n",
    "    :param length: Length to pad the sequence to.  If None, use length of longest sequence in x.\n",
    "    :return: Padded numpy array of sequences\n",
    "    \"\"\"\n",
    "    if length is None:\n",
    "        length = max([len(sentence) for sentence in x])\n",
    "    return pad_sequences(x, maxlen=length, padding='post')\n",
    "tests.test_pad(pad)\n",
    "\n",
    "# Pad Tokenized output\n",
    "test_pad = pad(text_tokenized)\n",
    "for sample_i, (token_sent, pad_sent) in enumerate(zip(text_tokenized, test_pad)):\n",
    "    print('Sequence {} in x'.format(sample_i + 1))\n",
    "    print('  Input:  {}'.format(np.array(token_sent)))\n",
    "    print('  Output: {}'.format(pad_sent))"
   ]
  },
  {
   "cell_type": "code",
   "execution_count": 8,
   "metadata": {},
   "outputs": [],
   "source": [
    "def tagger(decoder_input_sentence):\n",
    "    bos = \"<BOS> \"\n",
    "    eos = \" <EOS>\"\n",
    "    final_target = [bos + text + eos for text in decoder_input_sentence] \n",
    "    return final_target\n",
    "\n",
    "decoder_inputs = tagger(french_sentences)"
   ]
  },
  {
   "cell_type": "markdown",
   "metadata": {},
   "source": [
    "### Preprocess Pipeline\n",
    "Your focus for this project is to build neural network architecture, so we won't ask you to create a preprocess pipeline.  Instead, we've provided you with the implementation of the `preprocess` function."
   ]
  },
  {
   "cell_type": "code",
   "execution_count": 9,
   "metadata": {},
   "outputs": [
    {
     "name": "stdout",
     "output_type": "stream",
     "text": [
      "Data Preprocessed\n",
      "Max English sentence length: 15\n",
      "Max French sentence length: 21\n",
      "Max French sentence length decoder: 23\n",
      "English vocabulary size: 199\n",
      "French vocabulary size: 344\n",
      "French vocabulary size with BOS and EOS: 346\n"
     ]
    }
   ],
   "source": [
    "def preprocess(x, y, z):\n",
    "    \"\"\"\n",
    "    Preprocess x and y\n",
    "    :param x: Feature List of sentences\n",
    "    :param y: Label List of sentences\n",
    "    :param y: Label List of sentences with EOS and BOS tags for decoder\n",
    "    :return: Tuple of (Preprocessed x, Preprocessed y, x tokenizer, y tokenizer)\n",
    "    \"\"\"\n",
    "    preprocess_x, x_tk = tokenize(x)\n",
    "    preprocess_y, y_tk = tokenize(y)\n",
    "    preprocess_d, d_tk = tokenize(z)\n",
    "\n",
    "    preprocess_x = pad(preprocess_x)\n",
    "    preprocess_y = pad(preprocess_y)\n",
    "    preprocess_d = pad(preprocess_d)\n",
    "    # Keras's sparse_categorical_crossentropy function requires the labels to be in 3 dimensions\n",
    "    preprocess_y = preprocess_y.reshape(*preprocess_y.shape, 1)\n",
    "    preprocess_d= preprocess_d.reshape(*preprocess_d.shape, 1)\n",
    "    return preprocess_x, preprocess_y,preprocess_d, x_tk, y_tk,d_tk\n",
    "\n",
    "preproc_english_sentences, preproc_french_sentences, preproc_french_sentences_decode,english_tokenizer, french_tokenizer,french_tokenizer_decode =\\\n",
    "    preprocess(english_sentences, french_sentences,decoder_inputs)\n",
    "    \n",
    "max_english_sequence_length = preproc_english_sentences.shape[1]\n",
    "max_french_sequence_length = preproc_french_sentences.shape[1]\n",
    "english_vocab_size = len(english_tokenizer.word_index)\n",
    "french_vocab_size = len(french_tokenizer.word_index)\n",
    "french_vocab_size_decod = len(french_tokenizer_decode.word_index)\n",
    "max_french_sequence_length_decode= preproc_french_sentences_decode.shape[1]\n",
    "\n",
    "print('Data Preprocessed')\n",
    "print(\"Max English sentence length:\", max_english_sequence_length)\n",
    "print(\"Max French sentence length:\", max_french_sequence_length)\n",
    "print(\"Max French sentence length decoder:\", max_french_sequence_length_decode)\n",
    "print(\"English vocabulary size:\", english_vocab_size)\n",
    "print(\"French vocabulary size:\", french_vocab_size)\n",
    "print(\"French vocabulary size with BOS and EOS:\", french_vocab_size_decod)"
   ]
  },
  {
   "cell_type": "code",
   "execution_count": 10,
   "metadata": {},
   "outputs": [
    {
     "data": {
      "text/plain": [
       "(137861, 21, 1)"
      ]
     },
     "execution_count": 10,
     "metadata": {},
     "output_type": "execute_result"
    }
   ],
   "source": [
    "preproc_french_sentences.shape"
   ]
  },
  {
   "cell_type": "code",
   "execution_count": 11,
   "metadata": {},
   "outputs": [
    {
     "data": {
      "text/plain": [
       "{'est': 1,\n",
       " 'bos': 2,\n",
       " 'eos': 3,\n",
       " 'en': 4,\n",
       " 'il': 5,\n",
       " 'les': 6,\n",
       " 'mais': 7,\n",
       " 'et': 8,\n",
       " 'la': 9,\n",
       " 'parfois': 10,\n",
       " 'jamais': 11,\n",
       " 'le': 12,\n",
       " \"l'\": 13,\n",
       " 'généralement': 14,\n",
       " 'moins': 15,\n",
       " 'aimé': 16,\n",
       " 'au': 17,\n",
       " 'fruit': 18,\n",
       " 'préféré': 19,\n",
       " 'agréable': 20,\n",
       " 'froid': 21,\n",
       " 'son': 22,\n",
       " 'chaud': 23,\n",
       " 'de': 24,\n",
       " 'plus': 25,\n",
       " 'automne': 26,\n",
       " 'mois': 27,\n",
       " 'à': 28,\n",
       " 'elle': 29,\n",
       " 'citrons': 30,\n",
       " 'paris': 31,\n",
       " 'inde': 32,\n",
       " 'unis': 33,\n",
       " 'états': 34,\n",
       " 'france': 35,\n",
       " 'jersey': 36,\n",
       " 'new': 37,\n",
       " 'chine': 38,\n",
       " 'pendant': 39,\n",
       " 'pamplemousse': 40,\n",
       " 'mon': 41,\n",
       " 'votre': 42,\n",
       " 'juin': 43,\n",
       " 'printemps': 44,\n",
       " 'janvier': 45,\n",
       " 'hiver': 46,\n",
       " 'mars': 47,\n",
       " 'été': 48,\n",
       " 'mai': 49,\n",
       " 'septembre': 50,\n",
       " 'juillet': 51,\n",
       " 'avril': 52,\n",
       " 'novembre': 53,\n",
       " 'décembre': 54,\n",
       " 'février': 55,\n",
       " 'octobre': 56,\n",
       " 'aime': 57,\n",
       " 'août': 58,\n",
       " 'merveilleux': 59,\n",
       " 'relaxant': 60,\n",
       " 'doux': 61,\n",
       " 'humide': 62,\n",
       " 'notre': 63,\n",
       " 'californie': 64,\n",
       " 'sec': 65,\n",
       " 'leur': 66,\n",
       " 'occupé': 67,\n",
       " 'pluvieux': 68,\n",
       " 'calme': 69,\n",
       " 'beau': 70,\n",
       " 'habituellement': 71,\n",
       " 'pommes': 72,\n",
       " 'pêches': 73,\n",
       " 'oranges': 74,\n",
       " 'poires': 75,\n",
       " 'fraises': 76,\n",
       " 'bananes': 77,\n",
       " 'verts': 78,\n",
       " 'raisins': 79,\n",
       " 'mangues': 80,\n",
       " \"d'\": 81,\n",
       " 'mangue': 82,\n",
       " 'gel': 83,\n",
       " 'raisin': 84,\n",
       " 'pomme': 85,\n",
       " \"l'orange\": 86,\n",
       " 'citron': 87,\n",
       " 'chaux': 88,\n",
       " 'banane': 89,\n",
       " 'poire': 90,\n",
       " 'fraise': 91,\n",
       " 'pêche': 92,\n",
       " 'pas': 93,\n",
       " 'enneigée': 94,\n",
       " 'favori': 95,\n",
       " 'déteste': 96,\n",
       " 'gèle': 97,\n",
       " 'fruits': 98,\n",
       " 'voiture': 99,\n",
       " \"l'automne\": 100,\n",
       " 'ils': 101,\n",
       " \"n'aime\": 102,\n",
       " 'california': 103,\n",
       " 'neige': 104,\n",
       " 'fait': 105,\n",
       " 'belle': 106,\n",
       " 'ne': 107,\n",
       " 'vous': 108,\n",
       " 'nous': 109,\n",
       " 'des': 110,\n",
       " 'animal': 111,\n",
       " 'camion': 112,\n",
       " 'cours': 113,\n",
       " 'neigeux': 114,\n",
       " 'conduit': 115,\n",
       " 'prochain': 116,\n",
       " 'ce': 117,\n",
       " 'je': 118,\n",
       " 'tranquille': 119,\n",
       " 'a': 120,\n",
       " 'cher': 121,\n",
       " 'une': 122,\n",
       " 'cette': 123,\n",
       " 'était': 124,\n",
       " 'aller': 125,\n",
       " 'aiment': 126,\n",
       " 'chaude': 127,\n",
       " 'aimons': 128,\n",
       " \"n'aiment\": 129,\n",
       " \"n'aimez\": 130,\n",
       " 'leurs': 131,\n",
       " 'aimez': 132,\n",
       " 'sont': 133,\n",
       " 'détestons': 134,\n",
       " 'jaune': 135,\n",
       " 'rouge': 136,\n",
       " \"j'aime\": 137,\n",
       " 'visiter': 138,\n",
       " 'sèche': 139,\n",
       " 'occupée': 140,\n",
       " 'frisquet': 141,\n",
       " 'préférée': 142,\n",
       " 'animaux': 143,\n",
       " 'dernier': 144,\n",
       " 'aimait': 145,\n",
       " 'un': 146,\n",
       " 'conduisait': 147,\n",
       " 'que': 148,\n",
       " 'nouvelle': 149,\n",
       " 'vieille': 150,\n",
       " 'vu': 151,\n",
       " 'verte': 152,\n",
       " 'petite': 153,\n",
       " 'nos': 154,\n",
       " 'noire': 155,\n",
       " 'brillant': 156,\n",
       " 'blanche': 157,\n",
       " 'redouté': 158,\n",
       " 'pleut': 159,\n",
       " \"n'aimait\": 160,\n",
       " 'pamplemousses': 161,\n",
       " 'pense': 162,\n",
       " 'entre': 163,\n",
       " 'bleue': 164,\n",
       " 'nouveau': 165,\n",
       " 'traduire': 166,\n",
       " 'rouillée': 167,\n",
       " 'bleu': 168,\n",
       " 'se': 169,\n",
       " 'grande': 170,\n",
       " 'rouillé': 171,\n",
       " 'ses': 172,\n",
       " \"qu'il\": 173,\n",
       " 'blanc': 174,\n",
       " 'aux': 175,\n",
       " 'brillante': 176,\n",
       " 'préférés': 177,\n",
       " 'noir': 178,\n",
       " 'pluies': 179,\n",
       " 'envisage': 180,\n",
       " 'étaient': 181,\n",
       " 'va': 182,\n",
       " 'rendre': 183,\n",
       " 'vert': 184,\n",
       " 'vieux': 185,\n",
       " 'petit': 186,\n",
       " 'espagnol': 187,\n",
       " 'portugais': 188,\n",
       " 'chinois': 189,\n",
       " 'anglais': 190,\n",
       " 'français': 191,\n",
       " 'glaciales': 192,\n",
       " 'mes': 193,\n",
       " 'cet': 194,\n",
       " 'automobile': 195,\n",
       " 'traduction': 196,\n",
       " 'mouillé': 197,\n",
       " 'difficile': 198,\n",
       " 'amusant': 199,\n",
       " 'facile': 200,\n",
       " 'comme': 201,\n",
       " 'gros': 202,\n",
       " 'souris': 203,\n",
       " 'pourrait': 204,\n",
       " 'voulait': 205,\n",
       " 'veut': 206,\n",
       " 'pourquoi': 207,\n",
       " 'aimés': 208,\n",
       " 'prévois': 209,\n",
       " 'prévoyons': 210,\n",
       " 'vos': 211,\n",
       " 'intention': 212,\n",
       " 'clémentes': 213,\n",
       " 'ont': 214,\n",
       " 'chat': 215,\n",
       " 'requin': 216,\n",
       " 'cheval': 217,\n",
       " 'chien': 218,\n",
       " 'singe': 219,\n",
       " 'lion': 220,\n",
       " 'ours': 221,\n",
       " 'lapin': 222,\n",
       " 'serpent': 223,\n",
       " 'redoutés': 224,\n",
       " 'allé': 225,\n",
       " 'grosse': 226,\n",
       " 'pluie': 227,\n",
       " 'trop': 228,\n",
       " 'monde': 229,\n",
       " 'maillot': 230,\n",
       " 'vont': 231,\n",
       " 'volant': 232,\n",
       " 'avez': 233,\n",
       " 'i': 234,\n",
       " 'allés': 235,\n",
       " 'allée': 236,\n",
       " 'quand': 237,\n",
       " 'oiseau': 238,\n",
       " 'éléphant': 239,\n",
       " 'pourraient': 240,\n",
       " 'voulaient': 241,\n",
       " 'veulent': 242,\n",
       " 'détendre': 243,\n",
       " 'aimée': 244,\n",
       " 'magnifique': 245,\n",
       " \"l'automobile\": 246,\n",
       " \"n'aimons\": 247,\n",
       " 'gelé': 248,\n",
       " 'détestait': 249,\n",
       " 'grand': 250,\n",
       " 'bien': 251,\n",
       " 'vers': 252,\n",
       " 'prévoient': 253,\n",
       " 'prévoit': 254,\n",
       " 'lui': 255,\n",
       " 'visite': 256,\n",
       " 'comment': 257,\n",
       " 'éléphants': 258,\n",
       " 'chevaux': 259,\n",
       " 'chiens': 260,\n",
       " \"l'éléphant\": 261,\n",
       " \"l'oiseau\": 262,\n",
       " 'requins': 263,\n",
       " \"l'ours\": 264,\n",
       " 'serpents': 265,\n",
       " 'chats': 266,\n",
       " 'lapins': 267,\n",
       " 'singes': 268,\n",
       " 'oiseaux': 269,\n",
       " 'lions': 270,\n",
       " 'légère': 271,\n",
       " 'cépage': 272,\n",
       " 'pensez': 273,\n",
       " 'tour': 274,\n",
       " 'eiffel': 275,\n",
       " \"l'épicerie\": 276,\n",
       " 'terrain': 277,\n",
       " 'football': 278,\n",
       " 'lac': 279,\n",
       " \"l'école\": 280,\n",
       " \"l'animal\": 281,\n",
       " \"n'est\": 282,\n",
       " 'allons': 283,\n",
       " 'allez': 284,\n",
       " 'peu': 285,\n",
       " 'pousse': 286,\n",
       " 'du': 287,\n",
       " 'temps': 288,\n",
       " 'at': 289,\n",
       " 'rouille': 290,\n",
       " 'sur': 291,\n",
       " \"qu'elle\": 292,\n",
       " 'petites': 293,\n",
       " 'dernière': 294,\n",
       " 'êtes': 295,\n",
       " 'vais': 296,\n",
       " 'voudrait': 297,\n",
       " 'proches': 298,\n",
       " 'frais': 299,\n",
       " 'manguiers': 300,\n",
       " 'avons': 301,\n",
       " 't': 302,\n",
       " 'porcelaine': 303,\n",
       " 'détestez': 304,\n",
       " \"c'est\": 305,\n",
       " 'grandes': 306,\n",
       " 'préférées': 307,\n",
       " 'douce': 308,\n",
       " 'durant': 309,\n",
       " 'congélation': 310,\n",
       " 'plaît': 311,\n",
       " 'où': 312,\n",
       " 'dans': 313,\n",
       " 'voulez': 314,\n",
       " 'aimeraient': 315,\n",
       " \"n'a\": 316,\n",
       " 'petits': 317,\n",
       " 'grands': 318,\n",
       " 'limes': 319,\n",
       " 'envisagent': 320,\n",
       " 'grosses': 321,\n",
       " 'bénigne': 322,\n",
       " 'mouillée': 323,\n",
       " 'enneigé': 324,\n",
       " 'moindres': 325,\n",
       " 'conduite': 326,\n",
       " 'gelés': 327,\n",
       " 'tout': 328,\n",
       " 'etats': 329,\n",
       " \"n'êtes\": 330,\n",
       " 'vit': 331,\n",
       " 'ressort': 332,\n",
       " 'détend': 333,\n",
       " 'redoutée': 334,\n",
       " 'tu': 335,\n",
       " 'qui': 336,\n",
       " 'traduis': 337,\n",
       " 'apprécié': 338,\n",
       " 'allions': 339,\n",
       " 'trouvé': 340,\n",
       " 'as': 341,\n",
       " 'faire': 342,\n",
       " 'favoris': 343,\n",
       " 'souvent': 344,\n",
       " 'es': 345,\n",
       " 'moteur': 346}"
      ]
     },
     "execution_count": 11,
     "metadata": {},
     "output_type": "execute_result"
    }
   ],
   "source": [
    "french_tokenizer_decode.word_index"
   ]
  },
  {
   "cell_type": "code",
   "execution_count": 12,
   "metadata": {},
   "outputs": [
    {
     "data": {
      "text/plain": [
       "5"
      ]
     },
     "execution_count": 12,
     "metadata": {},
     "output_type": "execute_result"
    }
   ],
   "source": [
    "english_tokenizer.word_index['the']"
   ]
  },
  {
   "cell_type": "markdown",
   "metadata": {},
   "source": [
    "## Models\n",
    "In this section, you will experiment with various neural network architectures.\n",
    "You will begin by training four relatively simple architectures.\n",
    "- Model 1 is a simple RNN\n",
    "- Model 2 is a RNN with Embedding\n",
    "- Model 3 is a Bidirectional RNN\n",
    "- Model 4 is an optional Encoder-Decoder RNN\n",
    "\n",
    "After experimenting with the four simple architectures, you will construct a deeper architecture that is designed to outperform all four models.\n",
    "### Ids Back to Text\n",
    "The neural network will be translating the input to words ids, which isn't the final form we want.  We want the French translation.  The function `logits_to_text` will bridge the gab between the logits from the neural network to the French translation.  You'll be using this function to better understand the output of the neural network."
   ]
  },
  {
   "cell_type": "code",
   "execution_count": 13,
   "metadata": {},
   "outputs": [
    {
     "name": "stdout",
     "output_type": "stream",
     "text": [
      "`logits_to_text` function loaded.\n"
     ]
    }
   ],
   "source": [
    "def logits_to_text(logits, tokenizer):\n",
    "    \"\"\"\n",
    "    Turn logits from a neural network into text using the tokenizer\n",
    "    :param logits: Logits from a neural network\n",
    "    :param tokenizer: Keras Tokenizer fit on the labels\n",
    "    :return: String that represents the text of the logits\n",
    "    \"\"\"\n",
    "    index_to_words = {id: word for word, id in tokenizer.word_index.items()}\n",
    "    index_to_words[0] = '<PAD>'\n",
    "\n",
    "    return ' '.join([index_to_words[prediction] for prediction in np.argmax(logits, 1)])\n",
    "\n",
    "print('`logits_to_text` function loaded.')"
   ]
  },
  {
   "cell_type": "markdown",
   "metadata": {},
   "source": [
    "### Model 1: RNN (IMPLEMENTATION)\n",
    "![RNN](images/rnn.png)\n",
    "A basic RNN model is a good baseline for sequence data.  In this model, you'll build a RNN that translates English to French."
   ]
  },
  {
   "cell_type": "code",
   "execution_count": 1,
   "metadata": {},
   "outputs": [
    {
     "ename": "NameError",
     "evalue": "name 'tests' is not defined",
     "output_type": "error",
     "traceback": [
      "\u001b[0;31m---------------------------------------------------------------------------\u001b[0m",
      "\u001b[0;31mNameError\u001b[0m                                 Traceback (most recent call last)",
      "\u001b[0;32m<ipython-input-1-72b29689beae>\u001b[0m in \u001b[0;36m<module>\u001b[0;34m()\u001b[0m\n\u001b[1;32m     20\u001b[0m                   metrics=['accuracy'])\n\u001b[1;32m     21\u001b[0m     \u001b[0;32mreturn\u001b[0m \u001b[0mmodel\u001b[0m\u001b[0;34m\u001b[0m\u001b[0m\n\u001b[0;32m---> 22\u001b[0;31m \u001b[0mtests\u001b[0m\u001b[0;34m.\u001b[0m\u001b[0mtest_simple_model\u001b[0m\u001b[0;34m(\u001b[0m\u001b[0msimple_model\u001b[0m\u001b[0;34m)\u001b[0m\u001b[0;34m\u001b[0m\u001b[0m\n\u001b[0m\u001b[1;32m     23\u001b[0m \u001b[0;34m\u001b[0m\u001b[0m\n\u001b[1;32m     24\u001b[0m \u001b[0;31m# Reshaping the input to work with a basic RNN\u001b[0m\u001b[0;34m\u001b[0m\u001b[0;34m\u001b[0m\u001b[0m\n",
      "\u001b[0;31mNameError\u001b[0m: name 'tests' is not defined"
     ]
    }
   ],
   "source": [
    "def simple_model(input_shape, output_sequence_length, english_vocab_size, french_vocab_size):\n",
    "    \"\"\"\n",
    "    Build and train a basic RNN on x and y\n",
    "    :param input_shape: Tuple of input shape\n",
    "    :param output_sequence_length: Length of output sequence\n",
    "    :param english_vocab_size: Number of unique English words in the dataset\n",
    "    :param french_vocab_size: Number of unique French words in the dataset\n",
    "    :return: Keras model built, but not trained\n",
    "    \"\"\"\n",
    "    # TODO: Build the layers\n",
    "    learning_rate = 0.01\n",
    "    \n",
    "    input_seq = Input(input_shape[1:])\n",
    "    rnn_basic = GRU(64, return_sequences=True)(input_seq)\n",
    "    logits = TimeDistributed(Dense(french_vocab_size))(rnn_basic)\n",
    "\n",
    "    model = Model(input_seq, Activation('softmax')(logits))\n",
    "    model.compile(loss=sparse_categorical_crossentropy,\n",
    "                  optimizer=Adam(learning_rate),\n",
    "                  metrics=['accuracy'])\n",
    "    return model\n",
    "tests.test_simple_model(simple_model)\n",
    "\n",
    "# Reshaping the input to work with a basic RNN\n",
    "tmp_x = pad(preproc_english_sentences, max_french_sequence_length)\n",
    "tmp_x = tmp_x.reshape((-1, preproc_french_sentences.shape[-2], 1))\n",
    "\n",
    "# Train the neural network\n",
    "simple_rnn_model = simple_model(\n",
    "    tmp_x.shape,\n",
    "    max_french_sequence_length,\n",
    "    english_vocab_size,\n",
    "    french_vocab_size)\n",
    "simple_rnn_model.fit(tmp_x, preproc_french_sentences, batch_size=1024, epochs=10, validation_split=0.2)\n",
    "\n",
    "# Print prediction(s)\n",
    "print(logits_to_text(simple_rnn_model.predict(tmp_x[:1])[0], french_tokenizer))"
   ]
  },
  {
   "cell_type": "markdown",
   "metadata": {},
   "source": [
    "### Model 2: Embedding (IMPLEMENTATION)\n",
    "![RNN](images/embedding.png)\n",
    "You've turned the words into ids, but there's a better representation of a word.  This is called word embeddings.  An embedding is a vector representation of the word that is close to similar words in n-dimensional space, where the n represents the size of the embedding vectors.\n",
    "\n",
    "In this model, you'll create a RNN model using embedding."
   ]
  },
  {
   "cell_type": "code",
   "execution_count": null,
   "metadata": {},
   "outputs": [],
   "source": [
    "embeded_rnn_model.predict(tmp_x[:1])[0]"
   ]
  },
  {
   "cell_type": "code",
   "execution_count": 77,
   "metadata": {},
   "outputs": [
    {
     "name": "stdout",
     "output_type": "stream",
     "text": [
      "Train on 110288 samples, validate on 27573 samples\n",
      "Epoch 1/10\n",
      "110288/110288 [==============================] - 9s 84us/step - loss: 1.7458 - acc: 0.6241 - val_loss: nan - val_acc: 0.8126\n",
      "Epoch 2/10\n",
      "110288/110288 [==============================] - 8s 77us/step - loss: 0.4627 - acc: 0.8565 - val_loss: nan - val_acc: 0.8871\n",
      "Epoch 3/10\n",
      "110288/110288 [==============================] - 8s 77us/step - loss: 0.3137 - acc: 0.9007 - val_loss: nan - val_acc: 0.9101\n",
      "Epoch 4/10\n",
      "110288/110288 [==============================] - 8s 77us/step - loss: 0.2636 - acc: 0.9150 - val_loss: nan - val_acc: 0.9186\n",
      "Epoch 5/10\n",
      "110288/110288 [==============================] - 9s 77us/step - loss: 0.2403 - acc: 0.9212 - val_loss: nan - val_acc: 0.9211\n",
      "Epoch 6/10\n",
      "110288/110288 [==============================] - 9s 77us/step - loss: 0.2250 - acc: 0.9248 - val_loss: nan - val_acc: 0.9233\n",
      "Epoch 7/10\n",
      "110288/110288 [==============================] - 9s 77us/step - loss: 0.2140 - acc: 0.9279 - val_loss: nan - val_acc: 0.9275\n",
      "Epoch 8/10\n",
      "110288/110288 [==============================] - 9s 77us/step - loss: 0.2075 - acc: 0.9297 - val_loss: nan - val_acc: 0.9289\n",
      "Epoch 9/10\n",
      "110288/110288 [==============================] - 9s 77us/step - loss: 0.2013 - acc: 0.9312 - val_loss: nan - val_acc: 0.9279\n",
      "Epoch 10/10\n",
      "110288/110288 [==============================] - 9s 78us/step - loss: 0.2026 - acc: 0.9306 - val_loss: nan - val_acc: 0.9266\n"
     ]
    },
    {
     "data": {
      "text/plain": [
       "<keras.callbacks.History at 0x7f94d0d387b8>"
      ]
     },
     "execution_count": 77,
     "metadata": {},
     "output_type": "execute_result"
    }
   ],
   "source": [
    "def embed_model(input_shape, output_sequence_length, english_vocab_size, french_vocab_size):\n",
    "    \"\"\"\n",
    "    Build and train a RNN model using word embedding on x and y\n",
    "    :param input_shape: Tuple of input shape\n",
    "    :param output_sequence_length: Length of output sequence\n",
    "    :param english_vocab_size: Number of unique English words in the dataset\n",
    "    :param french_vocab_size: Number of unique French words in the dataset\n",
    "    :return: Keras model built, but not trained\n",
    "    \"\"\"\n",
    "    \n",
    "    # Config Hyperparameters\n",
    "    learning_rate = 0.01\n",
    "    embedding_vec=128\n",
    "    \n",
    "    # Config Model\n",
    "    inputs = Input(shape=input_shape[1:])\n",
    "#     print(inputs.shape)\n",
    "    embedding_layer = Embedding(input_dim=english_vocab_size,output_dim=embedding_vec)(inputs)\n",
    "#     print(embedding_layer.shape)\n",
    "    hidden_layer = GRU(embedding_vec, return_sequences=True)(embedding_layer)\n",
    "    \n",
    "    outputs = TimeDistributed(Dense(french_vocab_size,activation='softmax'))(hidden_layer)\n",
    "    \n",
    "    # Create Model from parameters defined above\n",
    "    model_embed = Model(inputs=inputs, outputs=outputs)\n",
    "    \n",
    "    model_embed.compile(loss=sparse_categorical_crossentropy,\n",
    "                 optimizer=Adam(learning_rate),\n",
    "                 metrics=['accuracy'])\n",
    "    \n",
    "    return model_embed\n",
    "#output_sequence_lenght=21\n",
    "tests.test_embed_model(embed_model)\n",
    "\n",
    "tmp_x = pad(preproc_english_sentences, max_french_sequence_length)\n",
    "\n",
    "\n",
    "# Train the neural network\n",
    "embeded_rnn_model = embed_model(\n",
    "    tmp_x.shape,\n",
    "    max_french_sequence_length,\n",
    "    english_vocab_size,\n",
    "    french_vocab_size)\n",
    "embeded_rnn_model.fit(tmp_x, preproc_french_sentences, batch_size=1024, epochs=10, validation_split=0.2)\n",
    "\n",
    "# Print prediction(s)\n",
    "# print(logits_to_text(embeded_rnn_model.predict(tmp_x[:1])[0], french_tokenizer))"
   ]
  },
  {
   "cell_type": "code",
   "execution_count": 79,
   "metadata": {},
   "outputs": [
    {
     "name": "stdout",
     "output_type": "stream",
     "text": [
      "new jersey est parfois calme en l' automne et il est neigeux en avril <PAD> <PAD> <PAD> <PAD> <PAD> <PAD> <PAD>\n"
     ]
    }
   ],
   "source": [
    "print(logits_to_text(embeded_rnn_model.predict(tmp_x[:1])[0], french_tokenizer))\n",
    "new jamais relaxant parfois relaxant janvier janvier il est chaud décembre été "
   ]
  },
  {
   "cell_type": "markdown",
   "metadata": {},
   "source": [
    "### Model 3: Bidirectional RNNs (IMPLEMENTATION)\n",
    "![RNN](images/bidirectional.png)\n",
    "One restriction of a RNN is that it can't see the future input, only the past.  This is where bidirectional recurrent neural networks come in.  They are able to see the future data."
   ]
  },
  {
   "cell_type": "code",
   "execution_count": null,
   "metadata": {
    "scrolled": true
   },
   "outputs": [],
   "source": [
    "def bd_model(input_shape_bi, output_sequence_length, english_vocab_size, french_vocab_size):\n",
    "    \"\"\"\n",
    "    Build and train a bidirectional RNN model on x and y\n",
    "    :param input_shape: Tuple of input shape\n",
    "    :param output_sequence_length: Length of output sequence\n",
    "    :param english_vocab_size: Number of unique English words in the dataset\n",
    "    :param french_vocab_size: Number of unique French words in the dataset\n",
    "    :return: Keras model built, but not trained\n",
    "    \"\"\"\n",
    "     # Config Hyperparameters\n",
    "    learning_rate = 0.01\n",
    "#     embedding_vec = 64\n",
    "    \n",
    "    # Config Model\n",
    "    inputs_bi = Input(input_shape_bi[1:])\n",
    " #   print(inputs_bi.shape)\n",
    "#     embedding_layer_bi = Embedding(input_dim=english_vocab_size,output_dim=embedding_vec)(inputs_bi)\n",
    "#    print(embedding_layer_bi.shape)\n",
    "    bidirection_rnn = Bidirectional(LSTM(64, return_sequences=True))(inputs_bi)\n",
    "    \n",
    "    outputs = TimeDistributed(Dense(french_vocab_size,activation='softmax'))(bidirection_rnn)\n",
    "    \n",
    "     # Create Model from parameters defined above\n",
    "    model_bi_rnn = Model(inputs_bi,outputs)\n",
    "    \n",
    "    model_bi_rnn.compile(loss=sparse_categorical_crossentropy,\n",
    "                 optimizer=Adam(learning_rate),\n",
    "                 metrics=['accuracy'])\n",
    "    \n",
    "    return model_bi_rnn\n",
    "\n",
    "\n",
    "tests.test_bd_model(bd_model)\n",
    "\n",
    "\n",
    "tmp_x_bi = pad(preproc_english_sentences, max_french_sequence_length)\n",
    "tmp_x_bi = tmp_x_bi.reshape((-1, preproc_french_sentences.shape[-2], 1))\n",
    "\n",
    "# TODO: Train and Print prediction(s)\n",
    "\n",
    "\n",
    "bd_model_rnn = bd_model(\n",
    "    tmp_x_bi.shape,\n",
    "    max_french_sequence_length,\n",
    "    english_vocab_size,\n",
    "    french_vocab_size)\n",
    "bd_model_rnn.fit(tmp_x_bi, preproc_french_sentences, batch_size=1024, epochs=10, validation_split=0.2)\n",
    "\n",
    "# Print prediction(s)\n",
    "print(logits_to_text(bd_model_rnn.predict(tmp_x_bi[:1])[0], french_tokenizer))"
   ]
  },
  {
   "cell_type": "markdown",
   "metadata": {},
   "source": [
    "### Model 4: Encoder-Decoder (OPTIONAL)\n",
    "Time to look at encoder-decoder models.  This model is made up of an encoder and decoder. The encoder creates a matrix representation of the sentence.  The decoder takes this matrix as input and predicts the translation as output.\n",
    "\n",
    "Create an encoder-decoder model in the cell below."
   ]
  },
  {
   "cell_type": "code",
   "execution_count": 14,
   "metadata": {},
   "outputs": [],
   "source": [
    "import numpy as np\n",
    "\n",
    "encoder_input_data = np.zeros(\n",
    "  (len(preproc_english_sentences), max_english_sequence_length),\n",
    "  dtype='float32')\n",
    "decoder_input_data = np.zeros(\n",
    "  (len(preproc_english_sentences), max_french_sequence_length_decode,1),\n",
    "  dtype='float32')\n",
    "decoder_target_data = np.zeros(\n",
    "  (len(preproc_english_sentences), max_french_sequence_length_decode,1),\n",
    "  dtype='float32')"
   ]
  },
  {
   "cell_type": "code",
   "execution_count": 15,
   "metadata": {},
   "outputs": [],
   "source": [
    "for i, (input_text, target_text) in enumerate(zip(preproc_english_sentences, preproc_french_sentences_decode)):\n",
    "    for t, word in enumerate(input_text):\n",
    "            encoder_input_data[i, t] = word\n",
    "    for t, char in enumerate(target_text):\n",
    "        s=char[0]\n",
    "        decoder_input_data[i, t,0]=s\n",
    "        if t > 0:\n",
    "      # decoder_target_data will be ahead by one timestep and will not include the start character.\n",
    "          decoder_target_data[i, t - 1,0] = s"
   ]
  },
  {
   "cell_type": "code",
   "execution_count": 16,
   "metadata": {},
   "outputs": [],
   "source": [
    "encoder_input_data = encoder_input_data.reshape((-1, preproc_english_sentences.shape[-1], 1))\n",
    "decoder_input_data = decoder_input_data.reshape((-1, preproc_french_sentences_decode.shape[-2], 1)) \n",
    "decoder_target_data = decoder_target_data.reshape((-1, preproc_french_sentences_decode.shape[-2], 1))"
   ]
  },
  {
   "cell_type": "code",
   "execution_count": 39,
   "metadata": {},
   "outputs": [
    {
     "data": {
      "text/plain": [
       "(137861, 15, 1)"
      ]
     },
     "execution_count": 39,
     "metadata": {},
     "output_type": "execute_result"
    }
   ],
   "source": [
    "encoder_input_data.shape"
   ]
  },
  {
   "cell_type": "code",
   "execution_count": 21,
   "metadata": {},
   "outputs": [
    {
     "data": {
      "text/plain": [
       "array([[[  37.],\n",
       "        [  36.],\n",
       "        [   1.],\n",
       "        [  10.],\n",
       "        [  69.],\n",
       "        [  39.],\n",
       "        [  13.],\n",
       "        [  26.],\n",
       "        [   8.],\n",
       "        [   5.],\n",
       "        [   1.],\n",
       "        [ 114.],\n",
       "        [   4.],\n",
       "        [  52.],\n",
       "        [   3.],\n",
       "        [   0.],\n",
       "        [   0.],\n",
       "        [   0.],\n",
       "        [   0.],\n",
       "        [   0.],\n",
       "        [   0.],\n",
       "        [   0.],\n",
       "        [   0.]]], dtype=float32)"
      ]
     },
     "execution_count": 21,
     "metadata": {},
     "output_type": "execute_result"
    }
   ],
   "source": [
    "decoder_target_data[:1]"
   ]
  },
  {
   "cell_type": "code",
   "execution_count": 22,
   "metadata": {},
   "outputs": [
    {
     "data": {
      "text/plain": [
       "[37, 36, 1, 10, 23, 39, 13, 26, 8, 5, 1, 114, 4, 52, 3, 0, 0, 0, 0, 0, 0, 0]"
      ]
     },
     "execution_count": 22,
     "metadata": {},
     "output_type": "execute_result"
    }
   ],
   "source": [
    "dec"
   ]
  },
  {
   "cell_type": "code",
   "execution_count": 86,
   "metadata": {},
   "outputs": [
    {
     "data": {
      "text/plain": [
       "0.0"
      ]
     },
     "execution_count": 86,
     "metadata": {},
     "output_type": "execute_result"
    }
   ],
   "source": [
    "decoder_input_data[44,22,0]"
   ]
  },
  {
   "cell_type": "code",
   "execution_count": 17,
   "metadata": {},
   "outputs": [
    {
     "name": "stdout",
     "output_type": "stream",
     "text": [
      "Train on 110288 samples, validate on 27573 samples\n",
      "Epoch 1/100\n",
      "110288/110288 [==============================] - 21s 193us/step - loss: 1.1281 - acc: 0.6952 - val_loss: nan - val_acc: 0.7692\n",
      "Epoch 2/100\n",
      "110288/110288 [==============================] - 19s 174us/step - loss: 0.6664 - acc: 0.7688 - val_loss: nan - val_acc: 0.7854\n",
      "Epoch 3/100\n",
      "110288/110288 [==============================] - 19s 175us/step - loss: 0.5432 - acc: 0.8021 - val_loss: nan - val_acc: 0.8118\n",
      "Epoch 4/100\n",
      "110288/110288 [==============================] - 19s 176us/step - loss: 0.4682 - acc: 0.8215 - val_loss: nan - val_acc: 0.8358\n",
      "Epoch 5/100\n",
      "110288/110288 [==============================] - 19s 175us/step - loss: 0.4123 - acc: 0.8366 - val_loss: nan - val_acc: 0.8345\n",
      "Epoch 6/100\n",
      "110288/110288 [==============================] - 19s 175us/step - loss: 0.3775 - acc: 0.8463 - val_loss: nan - val_acc: 0.8523\n",
      "Epoch 7/100\n",
      "110288/110288 [==============================] - 19s 175us/step - loss: 0.3677 - acc: 0.8500 - val_loss: nan - val_acc: 0.8590\n",
      "Epoch 8/100\n",
      "110288/110288 [==============================] - 19s 175us/step - loss: 0.3313 - acc: 0.8634 - val_loss: nan - val_acc: 0.8679\n",
      "Epoch 9/100\n",
      "110288/110288 [==============================] - 19s 175us/step - loss: 0.3099 - acc: 0.8739 - val_loss: nan - val_acc: 0.8762\n",
      "Epoch 10/100\n",
      "110288/110288 [==============================] - 19s 175us/step - loss: 0.2840 - acc: 0.8849 - val_loss: nan - val_acc: 0.8954\n",
      "Epoch 11/100\n",
      "110288/110288 [==============================] - 19s 175us/step - loss: 0.2732 - acc: 0.8900 - val_loss: nan - val_acc: 0.8899\n",
      "Epoch 12/100\n",
      "110288/110288 [==============================] - 19s 175us/step - loss: 0.2443 - acc: 0.9020 - val_loss: nan - val_acc: 0.9062\n",
      "Epoch 13/100\n",
      "110288/110288 [==============================] - 19s 175us/step - loss: 0.2644 - acc: 0.8927 - val_loss: nan - val_acc: 0.9090\n",
      "Epoch 14/100\n",
      "110288/110288 [==============================] - 19s 175us/step - loss: 0.2269 - acc: 0.9083 - val_loss: nan - val_acc: 0.9165\n",
      "Epoch 15/100\n",
      "110288/110288 [==============================] - 19s 175us/step - loss: 0.2216 - acc: 0.9101 - val_loss: nan - val_acc: 0.9042\n",
      "Epoch 16/100\n",
      "110288/110288 [==============================] - 19s 175us/step - loss: 0.2109 - acc: 0.9143 - val_loss: nan - val_acc: 0.9013\n",
      "Epoch 17/100\n",
      "110288/110288 [==============================] - 19s 175us/step - loss: 0.2305 - acc: 0.9075 - val_loss: nan - val_acc: 0.9250\n",
      "Epoch 18/100\n",
      "110288/110288 [==============================] - 19s 175us/step - loss: 0.2020 - acc: 0.9177 - val_loss: nan - val_acc: 0.9268\n",
      "Epoch 19/100\n",
      "110288/110288 [==============================] - 19s 175us/step - loss: 0.1948 - acc: 0.9210 - val_loss: nan - val_acc: 0.9213\n",
      "Epoch 20/100\n",
      "110288/110288 [==============================] - 19s 175us/step - loss: 0.2385 - acc: 0.9076 - val_loss: nan - val_acc: 0.9188\n",
      "Epoch 21/100\n",
      "110288/110288 [==============================] - 19s 175us/step - loss: 0.2095 - acc: 0.9126 - val_loss: nan - val_acc: 0.9080\n",
      "Epoch 22/100\n",
      "110288/110288 [==============================] - 19s 175us/step - loss: 0.2050 - acc: 0.9141 - val_loss: nan - val_acc: 0.9160\n",
      "Epoch 23/100\n",
      "110288/110288 [==============================] - 19s 174us/step - loss: 0.2102 - acc: 0.9129 - val_loss: nan - val_acc: 0.9236\n",
      "Epoch 24/100\n",
      "110288/110288 [==============================] - 19s 174us/step - loss: 0.1915 - acc: 0.9201 - val_loss: nan - val_acc: 0.9252\n",
      "Epoch 25/100\n",
      "110288/110288 [==============================] - 19s 173us/step - loss: 0.1891 - acc: 0.9215 - val_loss: nan - val_acc: 0.9174\n",
      "Epoch 26/100\n",
      "110288/110288 [==============================] - 19s 173us/step - loss: 0.1925 - acc: 0.9214 - val_loss: nan - val_acc: 0.9196\n",
      "Epoch 27/100\n",
      "110288/110288 [==============================] - 19s 172us/step - loss: 0.1931 - acc: 0.9207 - val_loss: nan - val_acc: 0.9218\n",
      "Epoch 28/100\n",
      "110288/110288 [==============================] - 19s 174us/step - loss: 0.1794 - acc: 0.9254 - val_loss: nan - val_acc: 0.9314\n",
      "Epoch 29/100\n",
      "110288/110288 [==============================] - 19s 172us/step - loss: 0.1901 - acc: 0.9223 - val_loss: nan - val_acc: 0.9395\n",
      "Epoch 30/100\n",
      "110288/110288 [==============================] - 19s 173us/step - loss: 0.1788 - acc: 0.9256 - val_loss: nan - val_acc: 0.9381\n",
      "Epoch 31/100\n",
      "110288/110288 [==============================] - 19s 174us/step - loss: 0.1613 - acc: 0.9336 - val_loss: nan - val_acc: 0.9348\n",
      "Epoch 32/100\n",
      "110288/110288 [==============================] - 19s 174us/step - loss: 0.1747 - acc: 0.9286 - val_loss: nan - val_acc: 0.9349\n",
      "Epoch 33/100\n",
      "110288/110288 [==============================] - 19s 172us/step - loss: 0.2012 - acc: 0.9204 - val_loss: nan - val_acc: 0.9398\n",
      "Epoch 34/100\n",
      "110288/110288 [==============================] - 19s 173us/step - loss: 0.1660 - acc: 0.9320 - val_loss: nan - val_acc: 0.9369\n",
      "Epoch 35/100\n",
      "110288/110288 [==============================] - 19s 174us/step - loss: 0.1645 - acc: 0.9315 - val_loss: nan - val_acc: 0.9366\n",
      "Epoch 36/100\n",
      "110288/110288 [==============================] - 19s 175us/step - loss: 0.1779 - acc: 0.9290 - val_loss: nan - val_acc: 0.9364\n",
      "Epoch 37/100\n",
      "110288/110288 [==============================] - 19s 174us/step - loss: 0.1601 - acc: 0.9341 - val_loss: nan - val_acc: 0.9365\n",
      "Epoch 38/100\n",
      "110288/110288 [==============================] - 19s 175us/step - loss: 0.1582 - acc: 0.9340 - val_loss: nan - val_acc: 0.9460\n",
      "Epoch 39/100\n",
      "110288/110288 [==============================] - 19s 174us/step - loss: 0.1804 - acc: 0.9268 - val_loss: nan - val_acc: 0.9133\n",
      "Epoch 40/100\n",
      "110288/110288 [==============================] - 19s 174us/step - loss: 0.1484 - acc: 0.9384 - val_loss: nan - val_acc: 0.9439\n",
      "Epoch 41/100\n",
      "110288/110288 [==============================] - 19s 174us/step - loss: 0.1708 - acc: 0.9300 - val_loss: nan - val_acc: 0.9323\n",
      "Epoch 42/100\n",
      "110288/110288 [==============================] - 19s 174us/step - loss: 0.1393 - acc: 0.9428 - val_loss: nan - val_acc: 0.9410\n",
      "Epoch 43/100\n",
      "110288/110288 [==============================] - 19s 174us/step - loss: 0.2071 - acc: 0.9213 - val_loss: nan - val_acc: 0.9405\n",
      "Epoch 44/100\n",
      "110288/110288 [==============================] - 19s 174us/step - loss: 0.1567 - acc: 0.9369 - val_loss: nan - val_acc: 0.9333\n",
      "Epoch 45/100\n",
      "110288/110288 [==============================] - 19s 175us/step - loss: 0.1562 - acc: 0.9358 - val_loss: nan - val_acc: 0.9404\n",
      "Epoch 46/100\n",
      "110288/110288 [==============================] - 19s 174us/step - loss: 0.1282 - acc: 0.9480 - val_loss: nan - val_acc: 0.9181\n",
      "Epoch 47/100\n",
      "110288/110288 [==============================] - 19s 174us/step - loss: 0.1770 - acc: 0.9275 - val_loss: nan - val_acc: 0.9502\n",
      "Epoch 48/100\n",
      "110288/110288 [==============================] - 19s 174us/step - loss: 0.1566 - acc: 0.9371 - val_loss: nan - val_acc: 0.9313\n",
      "Epoch 49/100\n",
      "110288/110288 [==============================] - 19s 174us/step - loss: 0.1233 - acc: 0.9502 - val_loss: nan - val_acc: 0.9520\n",
      "Epoch 50/100\n",
      "110288/110288 [==============================] - 19s 174us/step - loss: 0.1602 - acc: 0.9362 - val_loss: nan - val_acc: 0.9542\n",
      "Epoch 51/100\n",
      "110288/110288 [==============================] - 19s 175us/step - loss: 0.1749 - acc: 0.9352 - val_loss: nan - val_acc: 0.9293\n",
      "Epoch 52/100\n",
      "110288/110288 [==============================] - 19s 175us/step - loss: 0.1272 - acc: 0.9507 - val_loss: nan - val_acc: 0.9540\n",
      "Epoch 53/100\n",
      "110288/110288 [==============================] - 19s 175us/step - loss: 0.1520 - acc: 0.9413 - val_loss: nan - val_acc: 0.9164\n",
      "Epoch 54/100\n",
      "110288/110288 [==============================] - 19s 174us/step - loss: 0.1444 - acc: 0.9416 - val_loss: nan - val_acc: 0.9455\n",
      "Epoch 55/100\n",
      "110288/110288 [==============================] - 19s 174us/step - loss: 0.1078 - acc: 0.9582 - val_loss: nan - val_acc: 0.9558\n",
      "Epoch 56/100\n",
      "110288/110288 [==============================] - 19s 173us/step - loss: 0.1525 - acc: 0.9415 - val_loss: nan - val_acc: 0.9589\n",
      "Epoch 57/100\n",
      "110288/110288 [==============================] - 19s 173us/step - loss: 0.1099 - acc: 0.9581 - val_loss: nan - val_acc: 0.8978\n",
      "Epoch 58/100\n",
      "110288/110288 [==============================] - 19s 172us/step - loss: 0.1878 - acc: 0.9285 - val_loss: nan - val_acc: 0.9465\n",
      "Epoch 59/100\n",
      "110288/110288 [==============================] - 19s 173us/step - loss: 0.1421 - acc: 0.9446 - val_loss: nan - val_acc: 0.9451\n",
      "Epoch 60/100\n",
      "110288/110288 [==============================] - 19s 174us/step - loss: 0.1206 - acc: 0.9532 - val_loss: nan - val_acc: 0.9582\n",
      "Epoch 61/100\n",
      "110288/110288 [==============================] - 19s 174us/step - loss: 0.1362 - acc: 0.9459 - val_loss: nan - val_acc: 0.9592\n",
      "Epoch 62/100\n",
      "110288/110288 [==============================] - 19s 174us/step - loss: 0.1073 - acc: 0.9585 - val_loss: nan - val_acc: 0.9277\n",
      "Epoch 63/100\n",
      "110288/110288 [==============================] - 19s 174us/step - loss: 0.1518 - acc: 0.9402 - val_loss: nan - val_acc: 0.9586\n",
      "Epoch 64/100\n",
      "110288/110288 [==============================] - 19s 174us/step - loss: 0.0979 - acc: 0.9619 - val_loss: nan - val_acc: 0.9265\n",
      "Epoch 65/100\n",
      "110288/110288 [==============================] - 19s 174us/step - loss: 0.1529 - acc: 0.9432 - val_loss: nan - val_acc: 0.9612\n",
      "Epoch 66/100\n",
      "110288/110288 [==============================] - 19s 174us/step - loss: 0.0935 - acc: 0.9638 - val_loss: nan - val_acc: 0.9499\n",
      "Epoch 67/100\n",
      "110288/110288 [==============================] - 19s 174us/step - loss: 0.1759 - acc: 0.9376 - val_loss: nan - val_acc: 0.9589\n",
      "Epoch 68/100\n",
      "110288/110288 [==============================] - 19s 175us/step - loss: 0.1281 - acc: 0.9498 - val_loss: nan - val_acc: 0.9589\n",
      "Epoch 69/100\n",
      "110288/110288 [==============================] - 19s 174us/step - loss: 0.1356 - acc: 0.9502 - val_loss: nan - val_acc: 0.9199\n",
      "Epoch 70/100\n",
      "110288/110288 [==============================] - 19s 174us/step - loss: 0.1128 - acc: 0.9553 - val_loss: nan - val_acc: 0.9562\n",
      "Epoch 71/100\n",
      "110288/110288 [==============================] - 19s 174us/step - loss: 0.1305 - acc: 0.9485 - val_loss: nan - val_acc: 0.9611\n",
      "Epoch 72/100\n",
      "110288/110288 [==============================] - 19s 174us/step - loss: 0.1005 - acc: 0.9604 - val_loss: nan - val_acc: 0.9352\n",
      "Epoch 73/100\n",
      "110288/110288 [==============================] - 19s 174us/step - loss: 0.1578 - acc: 0.9408 - val_loss: nan - val_acc: 0.9593\n",
      "Epoch 74/100\n",
      "110288/110288 [==============================] - 19s 174us/step - loss: 0.1307 - acc: 0.9495 - val_loss: nan - val_acc: 0.9455\n",
      "Epoch 75/100\n",
      "110288/110288 [==============================] - 19s 174us/step - loss: 0.1144 - acc: 0.9548 - val_loss: nan - val_acc: 0.9594\n",
      "Epoch 76/100\n",
      "110288/110288 [==============================] - 19s 174us/step - loss: 0.0889 - acc: 0.9649 - val_loss: nan - val_acc: 0.9631\n",
      "Epoch 77/100\n",
      "110288/110288 [==============================] - 19s 174us/step - loss: 0.1470 - acc: 0.9457 - val_loss: nan - val_acc: 0.9320\n",
      "Epoch 78/100\n",
      "110288/110288 [==============================] - 19s 174us/step - loss: 0.1113 - acc: 0.9559 - val_loss: nan - val_acc: 0.9633\n",
      "Epoch 79/100\n",
      "110288/110288 [==============================] - 19s 174us/step - loss: 0.1335 - acc: 0.9471 - val_loss: nan - val_acc: 0.9576\n",
      "Epoch 80/100\n",
      "110288/110288 [==============================] - 19s 174us/step - loss: 0.0876 - acc: 0.9649 - val_loss: nan - val_acc: 0.9656\n",
      "Epoch 81/100\n",
      "110288/110288 [==============================] - 19s 174us/step - loss: 0.1507 - acc: 0.9436 - val_loss: nan - val_acc: 0.9457\n",
      "Epoch 82/100\n",
      "110288/110288 [==============================] - 19s 174us/step - loss: 0.1166 - acc: 0.9526 - val_loss: nan - val_acc: 0.9379\n",
      "Epoch 83/100\n",
      "110288/110288 [==============================] - 19s 174us/step - loss: 0.1502 - acc: 0.9401 - val_loss: nan - val_acc: 0.9557\n",
      "Epoch 84/100\n",
      "110288/110288 [==============================] - 19s 175us/step - loss: 0.1246 - acc: 0.9499 - val_loss: nan - val_acc: 0.9428\n",
      "Epoch 85/100\n",
      "110288/110288 [==============================] - 19s 175us/step - loss: 0.0994 - acc: 0.9609 - val_loss: nan - val_acc: 0.9658\n",
      "Epoch 86/100\n",
      "110288/110288 [==============================] - 19s 174us/step - loss: 0.1602 - acc: 0.9403 - val_loss: nan - val_acc: 0.9411\n",
      "Epoch 87/100\n",
      "110288/110288 [==============================] - 19s 174us/step - loss: 0.1017 - acc: 0.9591 - val_loss: nan - val_acc: 0.9660\n",
      "Epoch 88/100\n",
      "110288/110288 [==============================] - 19s 174us/step - loss: 0.0800 - acc: 0.9682 - val_loss: nan - val_acc: 0.9659\n",
      "Epoch 89/100\n",
      "110288/110288 [==============================] - 19s 174us/step - loss: 0.1285 - acc: 0.9518 - val_loss: nan - val_acc: 0.9477\n",
      "Epoch 90/100\n",
      "110288/110288 [==============================] - 19s 174us/step - loss: 0.1335 - acc: 0.9493 - val_loss: nan - val_acc: 0.9397\n",
      "Epoch 91/100\n",
      "110288/110288 [==============================] - 19s 175us/step - loss: 0.0949 - acc: 0.9623 - val_loss: nan - val_acc: 0.9656\n",
      "Epoch 92/100\n",
      "110288/110288 [==============================] - 19s 174us/step - loss: 0.1185 - acc: 0.9562 - val_loss: nan - val_acc: 0.9343\n",
      "Epoch 93/100\n",
      "110288/110288 [==============================] - 19s 174us/step - loss: 0.0976 - acc: 0.9619 - val_loss: nan - val_acc: 0.9676\n",
      "Epoch 94/100\n",
      "110288/110288 [==============================] - 19s 175us/step - loss: 0.1381 - acc: 0.9503 - val_loss: nan - val_acc: 0.9303\n",
      "Epoch 95/100\n",
      "110288/110288 [==============================] - 19s 175us/step - loss: 0.1077 - acc: 0.9576 - val_loss: nan - val_acc: 0.9638\n",
      "Epoch 96/100\n",
      "110288/110288 [==============================] - 19s 175us/step - loss: 0.1092 - acc: 0.9580 - val_loss: nan - val_acc: 0.9188\n",
      "Epoch 97/100\n",
      "110288/110288 [==============================] - 19s 175us/step - loss: 0.1261 - acc: 0.9508 - val_loss: nan - val_acc: 0.9669\n",
      "Epoch 98/100\n",
      "110288/110288 [==============================] - 19s 175us/step - loss: 0.0776 - acc: 0.9692 - val_loss: nan - val_acc: 0.9673\n",
      "Epoch 99/100\n",
      "110288/110288 [==============================] - 19s 174us/step - loss: 0.1767 - acc: 0.9364 - val_loss: nan - val_acc: 0.9559\n",
      "Epoch 100/100\n",
      "110288/110288 [==============================] - 19s 175us/step - loss: 0.0913 - acc: 0.9642 - val_loss: nan - val_acc: 0.9675\n"
     ]
    },
    {
     "data": {
      "text/plain": [
       "<keras.callbacks.History at 0x7f633c591f28>"
      ]
     },
     "execution_count": 17,
     "metadata": {},
     "output_type": "execute_result"
    }
   ],
   "source": [
    "def encdec_model(input_shape, output_shape, english_vocab_size, french_vocab_size):\n",
    "    \"\"\"\n",
    "    Build and train an encoder-decoder model on x and y\n",
    "    :param input_shape: Tuple of input shape\n",
    "    :param output_sequence_length: Length of output sequence\n",
    "    :param english_vocab_size: Number of unique English words in the dataset\n",
    "    :param french_vocab_size: Number of unique French words in the dataset\n",
    "    :return: Keras model built, but not trained\n",
    "    \"\"\"\n",
    "   # TODO: Implement\n",
    "\n",
    "    n_units = 256\n",
    "    \n",
    "    learning_rate =  0.01\n",
    "\n",
    "    encoder_inputs = Input(input_shape[1:])\n",
    "\n",
    "    encoder_lstm = LSTM(n_units, return_state=True)\n",
    "\n",
    "    encoder_output, state_h, state_c = encoder_lstm(encoder_inputs)\n",
    "\n",
    "    encoder_states = [state_h, state_c]\n",
    "\n",
    "  #  decoder_inputs = RepeatVector(23)(encoder_output)\n",
    "    \n",
    "    decoder_inputs= Input(output_shape[1:])\n",
    "\n",
    "    decoder_lstm  = LSTM(n_units, return_sequences=True, return_state=True)\n",
    "\n",
    "    decoder_output, _, _ = decoder_lstm(decoder_inputs, initial_state=encoder_states)\n",
    "\n",
    "    decoder_dense = TimeDistributed(Dense(french_vocab_size, activation='softmax'))\n",
    "\n",
    "    decoder_outputs = decoder_dense(decoder_output)\n",
    "\n",
    "    endec_model = Model([encoder_inputs, decoder_inputs], decoder_outputs)\n",
    "    endec_model.compile(loss=sparse_categorical_crossentropy,optimizer=Adam(learning_rate),metrics=['accuracy'])\n",
    "    #define inference encoder\n",
    "    encoder_model = Model(encoder_inputs, encoder_states)\n",
    "    # define inference decoder\n",
    "    decoder_state_input_h = Input(shape=(n_units,))\n",
    "    decoder_state_input_c = Input(shape=(n_units,))\n",
    "    decoder_states_inputs = [decoder_state_input_h, decoder_state_input_c]\n",
    "    decoder_outputs, state_h, state_c = decoder_lstm(decoder_inputs, initial_state=decoder_states_inputs)\n",
    "    decoder_states = [state_h, state_c]\n",
    "    decoder_outputs = decoder_dense(decoder_outputs)\n",
    "    decoder_model = Model([decoder_inputs] + decoder_states_inputs, [decoder_outputs] + decoder_states)\n",
    "    \n",
    " \n",
    "    return endec_model,encoder_model,decoder_model\n",
    "\n",
    "\n",
    "\n",
    "\n",
    "\n",
    "\n",
    "# # OPTIONAL: Train and Print prediction(s)\n",
    "\n",
    "train_model,encoder_model,decoder_model = encdec_model(encoder_input_data.shape,decoder_input_data.shape,english_vocab_size,french_vocab_size_decod)\n",
    "train_model.fit([encoder_input_data, decoder_input_data],decoder_target_data, batch_size=1024, epochs=100, validation_split=0.2)"
   ]
  },
  {
   "cell_type": "code",
   "execution_count": 113,
   "metadata": {},
   "outputs": [
    {
     "data": {
      "text/plain": [
       "23"
      ]
     },
     "execution_count": 113,
     "metadata": {},
     "output_type": "execute_result"
    }
   ],
   "source": [
    "preproc_french_sentences_decode.shape[-2]"
   ]
  },
  {
   "cell_type": "code",
   "execution_count": 114,
   "metadata": {},
   "outputs": [],
   "source": [
    "    target_seq = np.zeros(decoder_input_data.shape[1:])\n",
    "    target_seq=target_seq.reshape((-1, preproc_french_sentences_decode.shape[-2], 1))"
   ]
  },
  {
   "cell_type": "code",
   "execution_count": 115,
   "metadata": {},
   "outputs": [
    {
     "data": {
      "text/plain": [
       "(1, 23, 1)"
      ]
     },
     "execution_count": 115,
     "metadata": {},
     "output_type": "execute_result"
    }
   ],
   "source": [
    "target_seq.shape"
   ]
  },
  {
   "cell_type": "code",
   "execution_count": 116,
   "metadata": {},
   "outputs": [
    {
     "data": {
      "text/plain": [
       "37"
      ]
     },
     "execution_count": 116,
     "metadata": {},
     "output_type": "execute_result"
    }
   ],
   "source": [
    "french_tokenizer_decode.word_index['new']"
   ]
  },
  {
   "cell_type": "code",
   "execution_count": 18,
   "metadata": {},
   "outputs": [],
   "source": [
    "def predict_sequence(infenc, infdec, source,output_shape):\n",
    "    #encode the source sequence\n",
    "    state = infenc.predict(source)\n",
    "    target_seq = np.zeros(output_shape[1:])\n",
    "    target_seq=target_seq.reshape((-1, preproc_french_sentences_decode.shape[-2], 1))\n",
    "    print(target_seq.shape)\n",
    "    target_seq[0,0,0]=2.0\n",
    "    # collect predictions\n",
    "    stop_cond= False   \n",
    "    decode_sent=[]\n",
    "    k=0\n",
    "    while(stop_cond==False):\n",
    "        output_word, h, c = infdec.predict([target_seq] + state)        \n",
    "    #         print('sdf',logits_to_text(output_word,french_tokenizer_decode))\n",
    "        output_word=output_word.reshape((23,346))\n",
    "        decode_sent.append(np.argmax(output_word[k]))\n",
    "        target_seq[0,k+1,0]=np.argmax(output_word[k])\n",
    "        if len(decode_sent)>21:\n",
    "            stop_cond=True\n",
    "        k+=1\n",
    "    return decode_sent\n",
    "\n"
   ]
  },
  {
   "cell_type": "code",
   "execution_count": 19,
   "metadata": {},
   "outputs": [
    {
     "name": "stdout",
     "output_type": "stream",
     "text": [
      "(1, 23, 1)\n"
     ]
    }
   ],
   "source": [
    "# Print prediction(s)\n",
    "# return ' '.join([index_to_words[prediction] for prediction in np.argmax(logits, 1)])\n",
    "dec=predict_sequence(encoder_model,decoder_model,encoder_input_data[:1],decoder_input_data.shape)"
   ]
  },
  {
   "cell_type": "code",
   "execution_count": 25,
   "metadata": {},
   "outputs": [
    {
     "name": "stdout",
     "output_type": "stream",
     "text": [
      "new jersey est parfois chaud pendant l' automne et il est neigeux en avril eos <PAD> <PAD> <PAD> <PAD> <PAD> <PAD> <PAD>\n"
     ]
    }
   ],
   "source": [
    "index_to_words = {id: word for word, id in french_tokenizer_decode.word_index.items()}\n",
    "index_to_words[0] = '<PAD>'\n",
    "\n",
    "print( ' '.join([index_to_words[prediction] for prediction in dec]))\n"
   ]
  },
  {
   "cell_type": "markdown",
   "metadata": {},
   "source": [
    "### Model 5: Custom (IMPLEMENTATION)\n",
    "Use everything you learned from the previous models to create a model that incorporates embedding and a bidirectional rnn into one model."
   ]
  },
  {
   "cell_type": "code",
   "execution_count": 26,
   "metadata": {},
   "outputs": [],
   "source": [
    "import numpy as np\n",
    "\n",
    "encoder_input_data_final = np.zeros(\n",
    "  (len(preproc_english_sentences), max_english_sequence_length),\n",
    "  dtype='float32')\n",
    "decoder_input_data_final = np.zeros(\n",
    "  (len(preproc_english_sentences), max_french_sequence_length_decode,1),\n",
    "  dtype='float32')\n",
    "decoder_target_data_final = np.zeros(\n",
    "  (len(preproc_english_sentences), max_french_sequence_length_decode,1),\n",
    "  dtype='float32')\n",
    "\n",
    "for i, (input_text, target_text) in enumerate(zip(preproc_english_sentences, preproc_french_sentences_decode)):\n",
    "    for t, word in enumerate(input_text):\n",
    "            encoder_input_data_final[i, t] = word\n",
    "    for t, char in enumerate(target_text):\n",
    "        s=char[0]\n",
    "        decoder_input_data_final[i, t,0]=s\n",
    "        if t > 0:\n",
    "      # decoder_target_data_final will be ahead by one timestep and will not include the start character.\n",
    "          decoder_target_data_final[i, t - 1,0] = s"
   ]
  },
  {
   "cell_type": "code",
   "execution_count": null,
   "metadata": {},
   "outputs": [
    {
     "name": "stdout",
     "output_type": "stream",
     "text": [
      "Train on 110288 samples, validate on 27573 samples\n",
      "Epoch 1/10\n",
      "110288/110288 [==============================] - 22s 197us/step - loss: 1.1365 - acc: 0.7029 - val_loss: nan - val_acc: 0.8046\n",
      "Epoch 2/10\n",
      "110288/110288 [==============================] - 21s 190us/step - loss: 0.4626 - acc: 0.8441 - val_loss: nan - val_acc: 0.8854\n",
      "Epoch 3/10\n",
      "110288/110288 [==============================] - 21s 190us/step - loss: 0.2162 - acc: 0.9301 - val_loss: nan - val_acc: 0.9689\n",
      "Epoch 4/10\n",
      "110288/110288 [==============================] - 21s 189us/step - loss: 0.0765 - acc: 0.9798 - val_loss: nan - val_acc: 0.9858\n",
      "Epoch 5/10\n",
      "110288/110288 [==============================] - 21s 190us/step - loss: 0.0437 - acc: 0.9882 - val_loss: nan - val_acc: 0.9892\n",
      "Epoch 6/10\n",
      "109568/110288 [============================>.] - ETA: 0s - loss: 0.0315 - acc: 0.9915"
     ]
    }
   ],
   "source": [
    "def final_model(input_shape, output_shape, english_vocab_size, french_vocab_size):\n",
    "    \"\"\"\n",
    "    Build and train an encoder-decoder model on x and y\n",
    "    :param input_shape: Tuple of input shape\n",
    "    :param output_sequence_length: Length of output sequence\n",
    "    :param english_vocab_size: Number of unique English words in the dataset\n",
    "    :param french_vocab_size: Number of unique French words in the dataset\n",
    "    :return: Keras model built, but not trained\n",
    "    \"\"\"\n",
    "   # TODO: Implement\n",
    "\n",
    "    n_units = 256\n",
    "    \n",
    "    learning_rate =  0.01\n",
    "    embedding_vec=128\n",
    "\n",
    "\n",
    "    encoder_inputs = Input(input_shape[1:])\n",
    "\n",
    "    embedding_layer = Embedding(input_dim=english_vocab_size,output_dim=embedding_vec)(encoder_inputs)\n",
    "\n",
    "    encoder_lstm = LSTM(n_units, return_state=True)\n",
    "\n",
    "    encoder_output, state_h, state_c = encoder_lstm(embedding_layer)\n",
    "\n",
    "    encoder_states = [state_h, state_c]\n",
    "\n",
    "  #  decoder_inputs = RepeatVector(23)(encoder_output)\n",
    "    \n",
    "    decoder_inputs= Input(output_shape[1:])\n",
    "\n",
    "    decoder_lstm  = LSTM(n_units, return_sequences=True, return_state=True)\n",
    "\n",
    "    decoder_output, _, _ = decoder_lstm(decoder_inputs, initial_state=encoder_states)\n",
    "\n",
    "    decoder_dense = TimeDistributed(Dense(french_vocab_size, activation='softmax'))\n",
    "\n",
    "    decoder_outputs = decoder_dense(decoder_output)\n",
    "\n",
    "    endec_model = Model([encoder_inputs, decoder_inputs], decoder_outputs)\n",
    "    endec_model.compile(loss=sparse_categorical_crossentropy,optimizer=Adam(learning_rate),metrics=['accuracy'])\n",
    "    #define inference encoder\n",
    "    encoder_model_final = Model(encoder_inputs, encoder_states)\n",
    "    # define inference decoder\n",
    "    decoder_state_input_h = Input(shape=(n_units,))\n",
    "    decoder_state_input_c = Input(shape=(n_units,))\n",
    "    decoder_states_inputs = [decoder_state_input_h, decoder_state_input_c]\n",
    "    decoder_outputs, state_h, state_c = decoder_lstm(decoder_inputs, initial_state=decoder_states_inputs)\n",
    "    decoder_states = [state_h, state_c]\n",
    "    decoder_outputs = decoder_dense(decoder_outputs)\n",
    "    decoder_model_final = Model([decoder_inputs] + decoder_states_inputs, [decoder_outputs] + decoder_states)\n",
    "    \n",
    " \n",
    "    return endec_model,encoder_model_final,decoder_model_final\n",
    "\n",
    "\n",
    "\n",
    "\n",
    "\n",
    "\n",
    "# # OPTIONAL: Train and Print prediction(s)\n",
    "\n",
    "final_train,encoder_model_final,decoder_model_final = final_model(encoder_input_data_final.shape,decoder_input_data_final.shape,english_vocab_size,french_vocab_size_decod)\n",
    "final_train.fit([encoder_input_data_final, decoder_input_data_final],decoder_target_data_final, batch_size=1024, epochs=10, validation_split=0.2)"
   ]
  },
  {
   "cell_type": "markdown",
   "metadata": {},
   "source": [
    "## Prediction (IMPLEMENTATION)"
   ]
  },
  {
   "cell_type": "code",
   "execution_count": null,
   "metadata": {},
   "outputs": [],
   "source": [
    "def final_predictions(x, y, x_tk, y_tk):\n",
    "    \"\"\"\n",
    "    Gets predictions using the final model\n",
    "    :param x: Preprocessed English data\n",
    "    :param y: Preprocessed French data\n",
    "    :param x_tk: English tokenizer\n",
    "    :param y_tk: French tokenizer\n",
    "    \"\"\"\n",
    "    # TODO: Train neural network using model_final\n",
    "    model = None\n",
    "\n",
    "    \n",
    "    ## DON'T EDIT ANYTHING BELOW THIS LINE\n",
    "    y_id_to_word = {value: key for key, value in y_tk.word_index.items()}\n",
    "    y_id_to_word[0] = '<PAD>'\n",
    "\n",
    "    sentence = 'he saw a old yellow truck'\n",
    "    sentence = [x_tk.word_index[word] for word in sentence.split()]\n",
    "    sentence = pad_sequences([sentence], maxlen=x.shape[-1], padding='post')\n",
    "    sentences = np.array([sentence[0], x[0]])\n",
    "    predictions = model.predict(sentences, len(sentences))\n",
    "\n",
    "    print('Sample 1:')\n",
    "    print(' '.join([y_id_to_word[np.argmax(x)] for x in predictions[0]]))\n",
    "    print('Il a vu un vieux camion jaune')\n",
    "    print('Sample 2:')\n",
    "    print(' '.join([y_id_to_word[np.argmax(x)] for x in predictions[1]]))\n",
    "    print(' '.join([y_id_to_word[np.max(x)] for x in y[0]]))\n",
    "\n",
    "\n",
    "final_predictions(preproc_english_sentences, preproc_french_sentences, english_tokenizer, french_tokenizer)"
   ]
  },
  {
   "cell_type": "markdown",
   "metadata": {},
   "source": [
    "## Submission\n",
    "When you're ready to submit, complete the following steps:\n",
    "1. Review the [rubric](https://review.udacity.com/#!/rubrics/1004/view) to ensure your submission meets all requirements to pass\n",
    "2. Generate an HTML version of this notebook\n",
    "\n",
    "  - Run the next cell to attempt automatic generation (this is the recommended method in Workspaces)\n",
    "  - Navigate to **FILE -> Download as -> HTML (.html)**\n",
    "  - Manually generate a copy using `nbconvert` from your shell terminal\n",
    "```\n",
    "$ pip install nbconvert\n",
    "$ python -m nbconvert machine_translation.ipynb\n",
    "```\n",
    "  \n",
    "3. Submit the project\n",
    "\n",
    "  - If you are in a Workspace, simply click the \"Submit Project\" button (bottom towards the right)\n",
    "  \n",
    "  - Otherwise, add the following files into a zip archive and submit them \n",
    "  - `helper.py`\n",
    "  - `machine_translation.ipynb`\n",
    "  - `machine_translation.html`\n",
    "    - You can export the notebook by navigating to **File -> Download as -> HTML (.html)**."
   ]
  },
  {
   "cell_type": "markdown",
   "metadata": {},
   "source": [
    "### Generate the html\n",
    "\n",
    "**Save your notebook before running the next cell to generate the HTML output.** Then submit your project."
   ]
  },
  {
   "cell_type": "code",
   "execution_count": null,
   "metadata": {},
   "outputs": [],
   "source": [
    "# Save before you run this cell!\n",
    "!!jupyter nbconvert *.ipynb"
   ]
  },
  {
   "cell_type": "markdown",
   "metadata": {},
   "source": [
    "## Optional Enhancements\n",
    "\n",
    "This project focuses on learning various network architectures for machine translation, but we don't evaluate the models according to best practices by splitting the data into separate test & training sets -- so the model accuracy is overstated. Use the [`sklearn.model_selection.train_test_split()`](http://scikit-learn.org/stable/modules/generated/sklearn.model_selection.train_test_split.html) function to create separate training & test datasets, then retrain each of the models using only the training set and evaluate the prediction accuracy using the hold out test set. Does the \"best\" model change?"
   ]
  }
 ],
 "metadata": {
  "kernelspec": {
   "display_name": "Python 3",
   "language": "python",
   "name": "python3"
  },
  "language_info": {
   "codemirror_mode": {
    "name": "ipython",
    "version": 3
   },
   "file_extension": ".py",
   "mimetype": "text/x-python",
   "name": "python",
   "nbconvert_exporter": "python",
   "pygments_lexer": "ipython3",
   "version": "3.6.3"
  }
 },
 "nbformat": 4,
 "nbformat_minor": 1
}
